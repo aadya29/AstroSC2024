{
 "cells": [
  {
   "cell_type": "markdown",
   "metadata": {},
   "source": [
    "# Transient Identification"
   ]
  },
  {
   "cell_type": "markdown",
   "metadata": {},
   "source": [
    "Transients are events that happen that cause a change in an object's brightness due to some phenomenon. We can get clues about the source and its mechanism from a transient's light curve. A light curve is a plot that shows how brightness changes over time. \n",
    "\n",
    "\n",
    "You and three other astronomers (your group mates) all put in proposals for telescope time to get the light curves from 4 different transients: a supernova, a Cepheid variable star, an active black hole (an AGN), and one of unknown origin. You survived the telescope proposal process and they all get approved! You wait patiently for your data to get collected and sent to you via e-mail. \n",
    "\n",
    "You get a long e-mail from the telescope facility with \"We're sorry :(\" as the subject line. \n",
    "The e-mail reads:\n",
    "\n",
    "```\n",
    "Good afternoon, Dr. Astronomer. \n",
    "\n",
    "Thanks for using our telescope for your scientific needs! We value you and the science you create. \n",
    "We regret to inform you that there was an issue in our system and we mixed up your data with the data of three other astronomers, Dr. Astronomer, Dr. Astronomer, and Dr. Astronomer. This typically wouldn't be a problem except for the fact that there was an error in the pipeline and we did not save the data using a helpful filename. The good news is that it's obvious that you're all in different fields of Astronomy, so the objects should look distinct. We don't feel like figuring it out, so we're sending a random file to you and the other files to the other Dr. Astronomers. It's up to you all to get the data to the right astronomer. See below for the data. \n",
    "\n",
    "We look forward to future proposals!\n",
    "\n",
    "Clear skies, \n",
    "Telescope Facility\n",
    "\n",
    "P.S. The pipeline did only an ok job at cleaning up the data, so you have to finish that too.\n",
    "\n",
    "```\n",
    "    \n",
    "What the heck! Not only do you have to do extra data clean-up, you have to clean up someone else's data! You reach out to Dr. Astronomer, Dr. Astronomer, and Dr. Astronomer to set up a meeting to figure out who has what data. You all sit together at 1203 W Nevada St. to figure out the mystery. \n",
    "\n",
    "Now you all have to go through the process of IDing which transient you have from the file sent to you (the number we gave you). "
   ]
  },
  {
   "cell_type": "code",
   "execution_count": 1,
   "metadata": {},
   "outputs": [],
   "source": [
    "# importing necessary modules\n",
    "import matplotlib.pyplot as plt     # for plotting \n",
    "import numpy as np                  # for saving data"
   ]
  },
  {
   "cell_type": "markdown",
   "metadata": {},
   "source": [
    "## Read in the data from your file"
   ]
  },
  {
   "cell_type": "markdown",
   "metadata": {},
   "source": [
    "Now you want to plot how the brightness changes over time to get a better idea of what object or event you're looking at. First, you need to read in the data that was sent to you!\n",
    "\n",
    "These files are csv files (comma-separated files). The delimiter in the file is a comma. A delimiter is a character that separates information in a file. The columns in this file are separated by commas and that's how you know what information pertains to one column over another. Rows are separated by a newline. A newline is represented by the character, `\\n`, and looks like hitting the `enter` key on your keyboard between lines. Some programs understand what the newline is and won't show it to the user, others will show it to the user.\n",
    "\n",
    "We'll be using `numpy` functions to read in the data. [Click here](https://numpy.org/devdocs/user/how-to-io.html) for more information on reading and writing to files using `numpy`.\n",
    "\n",
    "You expect the file to be formatted in two columns. One column has the times and the other column has the brightness observed at that time. \n",
    "Right now, you don't know which column has what information. \n",
    "The first line in the file is a header line. A header line has information about each column in the data, like the quantity and what unit its in. \n",
    "\n",
    "Read in the data from the files into 2 arrays: one for the time and one for the brightness.\n",
    "Be careful to not save the header line into these arrays. Make sure you skip over it when you read in your data into the arrays.\n",
    "\n",
    "1. Open the file \n",
    "2. Print the header line for information about the columns\n",
    "3. Read only the data into two arrays: `time` and `data`\n",
    "4. Check the information you have saved in your arrays by printing them out"
   ]
  },
  {
   "cell_type": "code",
   "execution_count": 2,
   "metadata": {},
   "outputs": [
    {
     "ename": "SyntaxError",
     "evalue": "invalid syntax (1641607243.py, line 1)",
     "output_type": "error",
     "traceback": [
      "\u001b[0;36m  Cell \u001b[0;32mIn[2], line 1\u001b[0;36m\u001b[0m\n\u001b[0;31m    filename =  # name of your file here as a string\u001b[0m\n\u001b[0m                ^\u001b[0m\n\u001b[0;31mSyntaxError\u001b[0m\u001b[0;31m:\u001b[0m invalid syntax\n"
     ]
    }
   ],
   "source": [
    "filename =  # name of your file here in quotation marks (\"filename\")\n",
    "# either transient_1.csv, transient_2.csv, transient_3.csv, or transient_4.csv\n",
    "\n",
    "# opening your file to read only mode\n",
    "with open(filename, 'r') as file:\n",
    "\n",
    "    first_line = file.readline().strip('\\n')    # reads in the first line in the file and stores it in `first_line`\n",
    "    # `.strip('\\n')` removes the newline character from the end of the line\n",
    "\n",
    "    # print the first line of the file to see the header line\n",
    "    print()\n",
    "\n",
    "\n",
    "    # use np.loadtext to read in the data from the file\n",
    "    # make sure to include that the delimiter is a comma and to skip the first row in the call\n",
    "    # (in Day 1 Jupyter Notebook)\n",
    "    # hint: use `delimiter =` and `skiprows =` \n",
    "    all_info = np.loadtxt(filename, delimiter = ',', skiprows = 1) \n",
    "    "
   ]
  },
  {
   "cell_type": "code",
   "execution_count": 1,
   "metadata": {},
   "outputs": [
    {
     "ename": "NameError",
     "evalue": "name 'all_info' is not defined",
     "output_type": "error",
     "traceback": [
      "\u001b[0;31m---------------------------------------------------------------------------\u001b[0m",
      "\u001b[0;31mNameError\u001b[0m                                 Traceback (most recent call last)",
      "\u001b[0;32m<ipython-input-1-2e1d48333076>\u001b[0m in \u001b[0;36m<module>\u001b[0;34m\u001b[0m\n\u001b[1;32m      2\u001b[0m \u001b[0;34m\u001b[0m\u001b[0m\n\u001b[1;32m      3\u001b[0m \u001b[0;31m# save the first 2 columns into 2 different lists using array indexing\u001b[0m\u001b[0;34m\u001b[0m\u001b[0;34m\u001b[0m\u001b[0;34m\u001b[0m\u001b[0m\n\u001b[0;32m----> 4\u001b[0;31m \u001b[0mtime\u001b[0m \u001b[0;34m=\u001b[0m \u001b[0mall_info\u001b[0m\u001b[0;34m[\u001b[0m\u001b[0;36m0\u001b[0m\u001b[0;34m]\u001b[0m\u001b[0;34m\u001b[0m\u001b[0;34m\u001b[0m\u001b[0m\n\u001b[0m\u001b[1;32m      5\u001b[0m \u001b[0mdata\u001b[0m \u001b[0;34m=\u001b[0m \u001b[0mall_info\u001b[0m\u001b[0;34m[\u001b[0m\u001b[0;36m1\u001b[0m\u001b[0;34m]\u001b[0m\u001b[0;34m\u001b[0m\u001b[0;34m\u001b[0m\u001b[0m\n\u001b[1;32m      6\u001b[0m \u001b[0;34m\u001b[0m\u001b[0m\n",
      "\u001b[0;31mNameError\u001b[0m: name 'all_info' is not defined"
     ]
    }
   ],
   "source": [
    "# print all_info to see the formatting\n",
    "\n",
    "# save the first 2 columns into 2 different lists using array indexing\n",
    "time = all_info[:,0]\n",
    "data = all_info[:,1]\n",
    "\n",
    "# double check that you saved the right information into the arrays by printing `time` and `data` and comparing them to the output of `all_info`"
   ]
  },
  {
   "cell_type": "markdown",
   "metadata": {},
   "source": [
    "## Data Cleanup"
   ]
  },
  {
   "cell_type": "markdown",
   "metadata": {},
   "source": [
    "Figure out what your dataset looks like by plotting it as a scatter plot.\n",
    "\n",
    "**Remember that magnitudes are on an inverse scale**. Smaller magnitudes correspond to brighter points.\n",
    "\n",
    "One object is **not** reported in magnitudes. Double check!"
   ]
  },
  {
   "cell_type": "code",
   "execution_count": null,
   "metadata": {},
   "outputs": [],
   "source": [
    "plt.scatter()\n",
    "plt.show()"
   ]
  },
  {
   "cell_type": "markdown",
   "metadata": {},
   "source": [
    "Saying the pipeline did an ok job is...... sure. It's not horrible, but there is definitely some more work you have to do. \n",
    "\n",
    "Sometimes the data you get back is formatted unexpectedly or you have extra points that aren't from the data.\n",
    "Observations aren't perfect and there can be artifacts from the instrument, the sky, and other sorces that can add random information to your data. This is called noise.\n",
    "Remember that the brightness in our data is relative. It could be that the observations were made with a different calibration for brightness which would lead to an offset in the data. \n",
    "These would usually get taken care of before you get ahold of the data, but not in this case. Your next step is to figure out what's wrong with your data. \n",
    "\n",
    "There are two things that can be wrong with the data you were given: \n",
    "1. There are outlier points that are noise and aren't a part of the data itself\n",
    "2. The data is discontinuous\n",
    "\n",
    "\n",
    "##### Based on the your plot above, what do you think is wrong?\n",
    "You'll manipulate the data in different ways based on what you think the issue is. **There is only one problem in each dataset.**\n"
   ]
  },
  {
   "cell_type": "markdown",
   "metadata": {},
   "source": [
    "### Problem: Extraneous Points\n",
    "\n",
    "There are some clear outlier points in your data set that you need to get rid of. It's tough to pick a cut off point for what data to include and exclude. You want to make sure that you leave off those dramatically massive points without getting rid of actual information. It's not possible to eliminate all noise, you just want to get as much of it out as possible. \n",
    "\n",
    "Select a maximum -or- a minimum magnitude/ flux threshold and get rid of points that fall outside of that range. Try to get rid of as much as you can.\n",
    "Since you're changing the `data` array, make sure you also change the `time` array to only include the times that have points that fall below or above that threshold."
   ]
  },
  {
   "cell_type": "code",
   "execution_count": null,
   "metadata": {},
   "outputs": [],
   "source": [
    "brightness_limit =    # value here\n",
    "\n",
    "# new lists that will hold the points that you want to keep in your data\n",
    "truncated_data = []\n",
    "truncated_time = []\n",
    "\n",
    "# truncate the brightness data using loops and if statements (or some other method you've learned)\n",
    "for i in range():\n",
    "    # change 'condition 1' to the comparison operations (<, <=, etc.)\n",
    "    # reminder that if you're working with the magnitude system, it's backwards!!\n",
    "    if 'condition 1':\n",
    "        # this index corresponds to a value that falls within the allowed range\n",
    "        # add to the new lists created above\n",
    "        new_list.append(original_list[])\n",
    "        new_list.append(original_list[])"
   ]
  },
  {
   "cell_type": "code",
   "execution_count": null,
   "metadata": {},
   "outputs": [],
   "source": [
    "# plot your new data as a scatter plot\n",
    "# if it looks like you cut off too much or too little, go back and adjust your thresholds\n",
    "\n",
    "# plot the original data on top of the truncated data to compare the two\n",
    "plt.scatter()\n",
    "plt.scatter()\n",
    "plt.show()"
   ]
  },
  {
   "cell_type": "markdown",
   "metadata": {},
   "source": [
    "### Problem: Discontinuous Data\n",
    "\n",
    "There is a jump in the data that doesn't seem to be related to the event itself and you want to make a continuous light curve. Go back to your data. There is a third column marked `OFFSET`. The value in this column corresponds to the overall offset in brightness based on a specific calibration used. How nice of them!\n",
    "\n",
    "An offset of 0 corresponds to no offset needed to be made to the data. A non-zero value corresponds to how much the data is offset by. You want to undo this offset. The offset is not the same for all the points!\n",
    "\n",
    "Add all the offset values to a new array called `offset`. Use this array to manipulate your brightness data to make it continuous. "
   ]
  },
  {
   "cell_type": "code",
   "execution_count": null,
   "metadata": {},
   "outputs": [],
   "source": [
    "offset = all_info[]\n",
    "\n",
    "brightness_adjusted =   # operation that will make sure the data is correctly calibrated"
   ]
  },
  {
   "cell_type": "code",
   "execution_count": null,
   "metadata": {},
   "outputs": [],
   "source": [
    "# plot your adjusted data as a scatter plot\n",
    "plt.scatter()\n",
    "\n",
    "\n",
    "# is it continuous? if not, plot the original data on top to see what might have gone wrong. (hint: is the data \"moving\" in the right direction?)\n",
    "# plt.scatter()"
   ]
  },
  {
   "cell_type": "markdown",
   "metadata": {},
   "source": [
    "## Final Plot and Identification"
   ]
  },
  {
   "cell_type": "markdown",
   "metadata": {},
   "source": [
    "Now that you did Telescope Facility's job, identification should be a little easier!\n",
    "Make a final plot with your data and with labels on the axes.\n",
    "\n",
    "Have a chat with your fellow Dr. Astronomers about what transients you think you have and make sure you get the right one to the right astronomer! If they haven't gotten to this point, ask them if they want some help!\n",
    "\n",
    "Reminder that there are 4 objects/ transient events: a Cepheid, an AGN, a supernova, and a secret 4th thing. Use the knowledge you've learned from the previous days to identify the objects. Bonus points if you can name the 4th one! (Hint: you've talked about it this week!)\n",
    "\n",
    "Add an appropriate title to your plot!"
   ]
  },
  {
   "cell_type": "code",
   "execution_count": null,
   "metadata": {},
   "outputs": [],
   "source": [
    "plt.scatter()\n",
    "\n",
    "plt.title()\n",
    "plt.xlabel()\n",
    "plt.ylabel()\n",
    "plt.show()"
   ]
  },
  {
   "cell_type": "markdown",
   "metadata": {},
   "source": [
    "## Mystery solved! \n",
    "Now you can finally go do the science and analyses you originally wanted to do! \n",
    "*(But maybe the real science and analyses were the Dr. Astronomers you met along the way)*"
   ]
  },
  {
   "cell_type": "markdown",
   "metadata": {},
   "source": [
    "If you want to do this project again, try with the other files in the folder!\n",
    "\n",
    "There are ways to solve the above problems more efficiently using other methods. Go back to your intro notebooks and try to figure it out!"
   ]
  }
 ],
 "metadata": {
  "kernelspec": {
   "display_name": "Python 3 (ipykernel)",
   "language": "python",
   "name": "python3"
  },
  "language_info": {
   "codemirror_mode": {
    "name": "ipython",
    "version": 3
   },
   "file_extension": ".py",
   "mimetype": "text/x-python",
   "name": "python",
   "nbconvert_exporter": "python",
   "pygments_lexer": "ipython3",
   "version": "3.11.8"
  }
 },
 "nbformat": 4,
 "nbformat_minor": 4
}
