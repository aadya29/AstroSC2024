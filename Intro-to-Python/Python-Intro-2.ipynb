{
 "cells": [
  {
   "cell_type": "markdown",
   "metadata": {},
   "source": [
    "# Let's continue our dive into Python!"
   ]
  },
  {
   "cell_type": "markdown",
   "metadata": {},
   "source": [
    "Today we're going to go over some more coding and some fun ways to use and present our data."
   ]
  },
  {
   "cell_type": "markdown",
   "metadata": {},
   "source": [
    "## Indexing and slicing\n",
    "\n",
    "Yesterday we created lists 2 lists:\n",
    "```python\n",
    "lower = [0,1,2,3,4]\n",
    "upper = [5,6,7,8,9]\n",
    "```\n",
    "Sometimes we need all the information in the list so we access it through its variable name. Other times, we only want a specific element or subset of elements from the list. Accessing single elements in a list is known as indexing and accessing several elements in a list is known as slicing. \n",
    "\n",
    "Let's consider a new list. \n",
    "```python\n",
    "new_list = [1,2,3,4,5,6,7,8,9,10]\n",
    "```"
   ]
  },
  {
   "cell_type": "code",
   "execution_count": null,
   "metadata": {},
   "outputs": [],
   "source": [
    "new_list = [1,2,3,4,5,6,7,8,9,10]"
   ]
  },
  {
   "cell_type": "markdown",
   "metadata": {},
   "source": [
    "We can think of lists as individual boxes lined up next to each other with each box holding a value.\n",
    "\n",
    "<center><img src=\"./index.png\" width=\"500\"/></center>\n",
    "\n",
    "Python indexing is zero-based. That means that we start indexing/ counting from zero, not one. \n",
    "Be careful. If you try to access `new_list[10]` you will get an error. Make sure the indices are in bounds.\n",
    "\n",
    "<center><img src=\"./list_index.png\" width=\"500\"/></center>\n",
    "\n",
    "The first element in the list corresponds to index 0, the fifth element in the list corresponds to index 4.\n",
    "\n",
    "\n",
    "We can access elements in a list using square brackets `[]`. \n",
    "\n",
    "*`list_name`*`[`*`index`*`]` returns the value stored at index `index` from the list `list_name`"
   ]
  },
  {
   "cell_type": "code",
   "execution_count": null,
   "metadata": {},
   "outputs": [],
   "source": [
    "print('new_list[0] =', new_list[0])     # prints 0th element\n",
    "print('new_list[7] =', new_list[7])     # prints 7th element"
   ]
  },
  {
   "cell_type": "code",
   "execution_count": null,
   "metadata": {},
   "outputs": [],
   "source": [
    "print('new_list[10] =', new_list[10])    # error!"
   ]
  },
  {
   "cell_type": "markdown",
   "metadata": {},
   "source": [
    "You can also use negative indices! That starts indexing from the back of the list.\n",
    "\n",
    "`new_list[-1]` corresponds to the last element of `new_list`, i.e. `new_list[9]`\n",
    "<center><img src=\"./neg_index.png\" width=\"500\"/></center>"
   ]
  },
  {
   "cell_type": "code",
   "execution_count": null,
   "metadata": {},
   "outputs": [],
   "source": [
    "print('new_list[-1] =', new_list[-1])     # prints last element\n",
    "print('new_list[-4] =', new_list[-4])     # prints 4th to last element"
   ]
  },
  {
   "cell_type": "markdown",
   "metadata": {},
   "source": [
    "To access multiple elements, we use colons `:`.\n",
    "\n",
    "The notation for slicing is *`list_name`*`[`*`start`*`:`*`stop`*`:`*`step`*`]`\n",
    "- *start* - index of the first element we want to access (inclusive)\n",
    "- *stop* - **up to** index of the last element we want to acces (exclusive)\n",
    "- *step* - number of indexing steps taken from *start* to *stop* "
   ]
  },
  {
   "cell_type": "code",
   "execution_count": null,
   "metadata": {},
   "outputs": [],
   "source": [
    "print('new_list[0:3] =', new_list[0:3])     # prints elements 0 - 2\n",
    "\n",
    "# newline character (\\n) to create spacing between the print statements - don't worry about it\n",
    "print('\\nnew_list[3:9] =', new_list[3:9])     # prints elements 3 - 9\n",
    "print('new_list[3:9:2] =', new_list[3:9:2])   # prints elements 3 - 9 in steps of 2 \n",
    "print('\\nnew_list[1:9] =', new_list[1:9])     # prints elements 1 - 9\n",
    "print('new_list[1:9:3] =', new_list[1:9:3])   # prints elements 1 - 8 in steps of 3\n"
   ]
  },
  {
   "cell_type": "markdown",
   "metadata": {},
   "source": [
    "You don't have to specify each value while slicing.\n",
    "\n",
    "`newlist[::]` = `new_list` = `new_list[0:10]` = `new_list[0:10:1]` which all represent all of the elements in the list\n",
    "\n",
    "*Note: index 10 is a valid stop point because the stop point is exclusive!*"
   ]
  },
  {
   "cell_type": "code",
   "execution_count": null,
   "metadata": {},
   "outputs": [],
   "source": [
    "print('new_list[::] =', new_list[::])\n",
    "print('new_list =', new_list)\n",
    "print('new_list[0:10] =', new_list[0:10])\n",
    "print('new_list[0:10:1] =', new_list[0:10:1])"
   ]
  },
  {
   "cell_type": "markdown",
   "metadata": {},
   "source": [
    "- If *`start`* isn't specified, it starts from the first element in the list.\n",
    "- If *`stop`* isn't specified, it stops at the last element in the list\n",
    "- If *`step`* isn't specified, there are no steps taken\n",
    "\n",
    "Remeber that you don't *need* to have *`start`*, *`stop`*, or *`step`* when indexing a list.\n",
    "\n",
    "You are not changing the list itself! You're only accessing elements using this notation."
   ]
  },
  {
   "cell_type": "markdown",
   "metadata": {},
   "source": [
    "#### You try it!\n",
    "Print out all the even numbers from 2 to 8 in `new_list` using slicing. \n",
    "You should get `[2, 4, 6, 8]` as the result.\n",
    "\n",
    "*Bonus*: Print out all the even numbers from 2 to 8 in `new_list` in reverse using slicing. \n",
    "You should get `[8, 6, 4, 2]` as the result."
   ]
  },
  {
   "cell_type": "code",
   "execution_count": null,
   "metadata": {},
   "outputs": [],
   "source": [
    "print(new_list[start:stop:step])\n",
    "print(new_list[start:stop:step])"
   ]
  },
  {
   "cell_type": "markdown",
   "metadata": {},
   "source": [
    "There are many different ways to do this! Try multiple!"
   ]
  },
  {
   "cell_type": "markdown",
   "metadata": {},
   "source": [
    "Lists are not static! You can manipulate them like we saw yesterday using the `append()` function which adds elements to the end of the list. You can change the value of any elements in a list by using indexing to access that element and re-assinging a different value to that element. \n",
    "\n",
    "Currently, \n",
    "```python\n",
    "new_list = [1,2,3,4,5,6,7,8,9,10]\n",
    "```\n",
    "\n",
    "Let's say we want to change the first element in `new_list` to 27."
   ]
  },
  {
   "cell_type": "code",
   "execution_count": null,
   "metadata": {},
   "outputs": [],
   "source": [
    "print(new_list)\n",
    "new_list[0] = 27    # changing the first element in the list to 27\n",
    "print(new_list)"
   ]
  },
  {
   "cell_type": "markdown",
   "metadata": {},
   "source": [
    "#### You try it!\n",
    "Change the fourth element in `new_list` to a random number of your choosing from 10 to 20."
   ]
  },
  {
   "cell_type": "code",
   "execution_count": null,
   "metadata": {},
   "outputs": [],
   "source": [
    "new_list[] = # new value here\n",
    "print(new_list)"
   ]
  },
  {
   "cell_type": "markdown",
   "metadata": {},
   "source": [
    "\n",
    "[Click here](https://www.geeksforgeeks.org/a-comprehensive-guide-to-15-essential-function-for-list-manipulation/) for more things you can do with lists!"
   ]
  },
  {
   "cell_type": "markdown",
   "metadata": {},
   "source": [
    "-------------------------------------\n",
    "## Using functions with lists\n",
    "\n",
    "Yesterday, you learned a little bit about how functions work. \n",
    "Here is a recap. \n",
    "\n",
    "Functions are pieces of code that run when called. Functions take in *arguments*, which are the code in the parentheses. Functions can take in any number of arguments, including no arguments.\n",
    "\n",
    "In the code block from yesterday,\n",
    "- The `range` function takes in a argument (in this case `10`), and returns a range of values from 0 to that argument\n",
    "- The `append` function takes in a argument (`i`) and adds that as an element to the end of a list (`lower`) \n",
    "- The `print` function takes in any number of argument (`\"lower:\"` and `lower`) and prints them to the screen\n",
    "\n",
    "If you ever need more information on a function you're using, you can use `help(`*`function name`*`)` and there will be a print out of what the function does, what arguements need to be sent it, and what it returns. \n",
    "See below for results of `help()`\n",
    "\n",
    "\n",
    "The `append` function is a built-in function that is applied to a list. Notice the *`list_name`*`.`*`function()`* notation. This is a notation used for built-in functions.\n",
    "Some other built-in list functions include:\n",
    "-  *`list_name`*`.pop(`*`i`*`)`\n",
    "    - removes the element from the list at index `i`\n",
    "-  *`list_name`*`.sort(`*`i`*`)`\n",
    "    - sort the list in ascending order\n",
    "\n",
    "[Click here](https://www.w3schools.com/python/python_ref_list.asp) to look at a list of more built-in functions.\n",
    "\n",
    "To use `help()` with built-in functions you would call it by using `help(`*`list_name`*`.`*`function`*`)`"
   ]
  },
  {
   "cell_type": "code",
   "execution_count": null,
   "metadata": {},
   "outputs": [],
   "source": [
    "# help with functions\n",
    "help(new_list.append)\n",
    "help(new_list.sort)"
   ]
  },
  {
   "cell_type": "markdown",
   "metadata": {},
   "source": [
    "Not all functions used on lists are built-in functions, though. \n",
    "\n",
    "To get the number of elements in a list, the length, you use the function `len` with the list name as an arguement: `len(`*`list_name`*`)`\n",
    "\n",
    "It can tricky to remember which functions have lists passed in as arguements and which functions use the `.` notation. An error will most likely come up. Google is your friend! "
   ]
  },
  {
   "cell_type": "code",
   "execution_count": null,
   "metadata": {},
   "outputs": [],
   "source": [
    "print(len(new_list))    # prints length of new_list\n",
    "print(new_list.len())   # error!"
   ]
  },
  {
   "cell_type": "markdown",
   "metadata": {},
   "source": [
    "#### You try it!\n",
    "List manipulation\n",
    "\n",
    "- Print the contents and the length of `new_list`\n",
    "- Remove any value from `new_list` using the built-in function `pop`\n",
    "- Print out the updated contents and the updated length of `new_list`\n",
    "- Add a value to the end of `new_list` using the built-in function `append`\n",
    "- Print out the updated contents and the updated length of `new_list`"
   ]
  },
  {
   "cell_type": "code",
   "execution_count": null,
   "metadata": {},
   "outputs": [],
   "source": [
    "print(\"new_list = \",  )\n",
    "print(\"len of new_list = \", )\n",
    "\n",
    "#use function called pop here - remember that it's a built-in function so it uses the . notation\n",
    "\n",
    "print(\"new new_list = \",  )\n",
    "print(\"new len of new new_list = \", )\n",
    "\n",
    "#use function called append here - remember that it's a built-in function so it uses the . notation\n",
    "\n",
    "print(\"new new new_list = \",  )\n",
    "print(\"new new  len of new new new_list = \", )"
   ]
  },
  {
   "cell_type": "markdown",
   "metadata": {},
   "source": [
    "Other helpful functions for lists include `max`, which returns the maximum value in the list and `min`, which returns the minimum value in the list."
   ]
  },
  {
   "cell_type": "code",
   "execution_count": null,
   "metadata": {},
   "outputs": [],
   "source": [
    "print(max(new_list))    # maximum value in new_list\n",
    "print(min(new_list))    # minimum value in new_list"
   ]
  },
  {
   "cell_type": "markdown",
   "metadata": {},
   "source": [
    "-------------------------------------\n",
    "## Using loops with lists\n",
    "\n",
    "Yesterday we were looking at `for` loops. Here is a recap.\n",
    "\n",
    "`for` loops iterate through some list or range of values and repeats some code until the end of the list or range. In this code, `i` iterates through and is a number in the range of numbers from 0 to 9. Think of `i` as a variable and its value changes after the end of the loop block.\n",
    "\n",
    "``` python\n",
    "# split the numbers into lower and upper\n",
    "for i in range(10):\n",
    "    if (i < midpoint):\n",
    "        lower.append(i)\n",
    "    else:\n",
    "        upper.append(i)\n",
    "```\n",
    "\n",
    "They iterate through some list? We have a list! Can we iterate through that list?"
   ]
  },
  {
   "cell_type": "code",
   "execution_count": null,
   "metadata": {},
   "outputs": [],
   "source": [
    "print(new_list)\n",
    "\n",
    "for i in new_list:\n",
    "    print(i)"
   ]
  },
  {
   "cell_type": "markdown",
   "metadata": {},
   "source": [
    "What's happening? `i` is taking on the values **in** `new_list`!\n",
    "\n",
    "Another way to do the same thing is to use `len` and `range`.\n",
    "\n",
    "`len` returns the length of your list and `range(i)` returns a range of numbers between 0 and `i`. so `range(len(`*`list_name`*`))` returns a range of numbers between 0 and the length of *`list_name`*"
   ]
  },
  {
   "cell_type": "code",
   "execution_count": null,
   "metadata": {},
   "outputs": [],
   "source": [
    "print(len(new_list))\n",
    "\n",
    "for i in range(len(new_list)):\n",
    "    print(\"i = \", i, \", new_list[i] = \", new_list[i])"
   ]
  },
  {
   "cell_type": "markdown",
   "metadata": {},
   "source": [
    "We have only covered the basics of lists here. As you learn more about coding in Python, you'll learn more about lists and what you can do with them!"
   ]
  },
  {
   "cell_type": "markdown",
   "metadata": {},
   "source": [
    "## Matplotlib\n",
    "\n",
    "Take a look at these numbers. Can you tell what this represents? (It's somthing you've encountered before)\n",
    "\n",
    "<center><img src=\"./sin.png\" width=\"200\"/></center>\n",
    "\n",
    "How about now when it's plotted?\n",
    "\n",
    "<center><img src=\"./sin_plot.png\" width=\"500\"/></center>\n",
    "\n",
    "Data visualization is crucial in all fields. Without it, it would be hard to interpret results. \n",
    "\n",
    "`Matplotlib` is a Python package that allows users to create any sort of visualization with a lot of customizations. Matplotlib is an external library, so we have to make Python aware of it. That's done by importing Matplotlib into Python. "
   ]
  },
  {
   "cell_type": "code",
   "execution_count": null,
   "metadata": {},
   "outputs": [],
   "source": [
    "import matplotlib.pyplot as plt"
   ]
  },
  {
   "cell_type": "markdown",
   "metadata": {},
   "source": [
    "Now Python knows what Matplotlib is. The `as` keyword is an alias, or another way to refer to Matplotlib. Every time you open a new notebook, write a new script, or open up a new Python interpreter, you have to `import` Matplotlib if you're going to use it. \n",
    "\n",
    "Let's plot a simple line, y = x.\n",
    "- Create a variable x and make it a list of values from 0 to 10\n",
    "- Create another variable y and set y equal to x\n",
    "- Plot y = x"
   ]
  },
  {
   "cell_type": "code",
   "execution_count": null,
   "metadata": {},
   "outputs": [],
   "source": [
    "x = [0, 1, 2, 3, 4, 5, 6, 7, 8, 9, 10]\n",
    "y = x\n",
    "\n",
    "plt.plot(x,y)   # plot y = x\n",
    "plt.show()      # displays plot"
   ]
  },
  {
   "cell_type": "markdown",
   "metadata": {},
   "source": [
    "That looks like y = x! What did we do here?\n",
    "\n",
    "`plt.plot(`*`x_data`*, *`y_data`*`)` is the function that plots the data\n",
    "- *`x_data`* is the list of points corresponding to the x-coordinate\n",
    "- *`y_data`* is the list of points corresponding to the y-coordinate\n",
    "\n",
    "`plt.show()` displays the figure\n",
    "\n",
    "This is a pretty bare bones plot, though. We can tell that there is a y = x relationship here, but it would be helpful to have more information on the plot to **describe** it. \n",
    "\n",
    "Let's look at a more complicated plot.\n",
    "\n",
    "<center><img src=\"./sin_sqrt_nolabel.png\" width=\"500\"/></center>\n",
    "\n",
    "There is quite a bit going on here, but we don't really know what that is. What is on the axes? What do the different lines represent? Are they related? What's the point?\n",
    "\n",
    "What are some common features on plots that help describe the data?\n",
    "- Title\n",
    "- Labels on the x- and y-axes\n",
    "- Legends\n",
    "\n",
    "Let's look at this plot again with these features included\n",
    "\n",
    "<center><img src=\"./sin_sqrt_label.png\" width=\"500\"/></center>\n",
    "\n",
    "A turtle and a rabbit are about to race. Both get a GPS tracker placed on one of their feet. It is a straight line to the finish. Data is recorded on the path they take. \n",
    "This tells a completely different story!\n",
    "\n",
    "\n",
    "Let's look at a block of code together to break down different parts of a plot. Let's revisit y = x."
   ]
  },
  {
   "cell_type": "code",
   "execution_count": null,
   "metadata": {},
   "outputs": [],
   "source": [
    "x = [0, 1, 2, 3, 4, 5, 6, 7, 8, 9, 10]\n",
    "y = x\n",
    "\n",
    "plt.plot(x,y)           # plot y = x\n",
    "plt.xlabel(\"x\")         # x-axis label\n",
    "plt.ylabel(\"y\")         # y-axis label\n",
    "plt.title(\"y vs. x\")    # plot title\n",
    "plt.show()              # displays plot"
   ]
  },
  {
   "cell_type": "markdown",
   "metadata": {},
   "source": [
    "```python\n",
    "plt.plot(x,y)       # plot y = x\n",
    "```\n",
    "This plots the data. `x` is the list that corresponds to the x-coordinates. `y` is the list that corresponds to the y-coordinates\n",
    "\n",
    "```python\n",
    "plt.xlabel(\"x\")     # x-xis label\n",
    "plt.ylabel(\"y\")     # y-axis label\n",
    "```\n",
    "These set the labels on the x- and y- axes. Notice the quotes. You can name the axes whatever you want!\n",
    "\n",
    "```python\n",
    "plt.title(\"y vs. x\")  # plot title\n",
    "```\n",
    "This creates a title for the plot.  Notice the quotes. You can name the title whatever you want!\n",
    "\n",
    "```python\n",
    "plt.show()          # displays plot\n",
    "```\n",
    "This displays the plot on the screen.\n",
    "\n",
    "#### You try it!\n",
    "You have some data on a car that was going way too fast down residential roads. You need to make a plot showing how the car's speed changes as proof of the speeding! You have the car's speed at various points in time starting from when the data started to get collected. \n",
    "\n",
    "Time is in minutes and the speed of the car is in miles/hr. \n",
    "\n",
    "**Task**:\n",
    "Make a plot of the car's speed vs. time. Make sure to include labels on your axes with units and a title!"
   ]
  },
  {
   "cell_type": "code",
   "execution_count": null,
   "metadata": {},
   "outputs": [],
   "source": [
    "time = [4.3, 4.9, 5.5, 6.7, 7.2, 8.4, 9.2, 9.5]\n",
    "speed = [18.49, 24.01, 30.25, 44.89, 51.84, 70.56, 84.64, 90.25]\n",
    "\n",
    "plt.plot()\n",
    "plt.show()\n"
   ]
  },
  {
   "cell_type": "markdown",
   "metadata": {},
   "source": [
    "You don't have to only plot lines. You can make different types of plots, like scatter plots, histograms, hat graphs, etc.!\n",
    "\n",
    "#### Scatter plots\n",
    "To make a scatter plot, use `plt.scatter` instead of `plt.plot`.\n",
    "\n",
    "You can still use `plt.xlabel`, `plt.show`, etc. the same way!\n",
    "\n",
    "Let's represent the speed data from the last example as a scatter plot instead."
   ]
  },
  {
   "cell_type": "code",
   "execution_count": null,
   "metadata": {},
   "outputs": [],
   "source": [
    "plt.scatter(time, speed)\n",
    "\n",
    "plt.xlabel(\"Time (minutes)\")                                # x-axis label\n",
    "plt.ylabel(\"Speed (miles/hr)\")                              # y-axis label\n",
    "plt.title(\"Proof of Car Speeding - Car's Speed vs. Time\")   # plot title\n",
    "plt.show()                                                  # displays plot"
   ]
  },
  {
   "cell_type": "markdown",
   "metadata": {},
   "source": [
    "Let's look at a fun plot with some features!"
   ]
  },
  {
   "cell_type": "code",
   "execution_count": null,
   "metadata": {},
   "outputs": [],
   "source": [
    "t_wave = [0.1, 0.44137931, 0.78275862, 1.12413793, 1.46551724, 1.80689655,\n",
    "         2.14827586, 2.48965517, 2.83103448, 3.17241379, 3.5137931, 3.85517241,\n",
    "         4.19655172,  4.53793103,  4.87931034,  5.22068966,  5.56206897,  5.90344828,\n",
    "         6.24482759,  6.5862069,   6.92758621,  7.26896552,  7.61034483,  7.95172414,\n",
    "         8.29310345,  8.63448276,  8.97586207,  9.31724138,  9.65862069, 10]\n",
    "height_wave = [1.40509927e-04, 2.04431914e-02, 1.23974081e-01, 3.36056111e-01,\n",
    "       5.91637890e-01, 7.57524495e-01, 7.16269308e-01, 4.61480188e-01,\n",
    "       1.40071344e-01, 1.66976442e-03, 2.68203426e-01, 9.88895588e-01,\n",
    "       1.96621911e+00, 2.81088550e+00, 3.11850379e+00, 2.68968538e+00,\n",
    "       1.67836770e+00, 5.74921167e-01, 6.65570827e-03, 4.34093944e-01,\n",
    "       1.88777885e+00, 3.88860494e+00, 5.61768267e+00, 6.28121160e+00,\n",
    "       5.50936647e+00, 3.59206187e+00, 1.41451355e+00, 9.11418848e-02,\n",
    "       4.46697791e-01, 2.58456016e+00]\n",
    "\n",
    "plt.scatter(t_wave, height_wave)\n",
    "plt.xlabel('Time (s)')\n",
    "plt.ylabel('Height (m)')\n",
    "plt.title('Change in Height of Wave 626')\n",
    "plt.show()"
   ]
  },
  {
   "cell_type": "markdown",
   "metadata": {},
   "source": [
    "There is that interesting feature around 8ish seconds. Let's say we want to zoom-in to that peak. \n",
    "We can adjust the range of values we look at on a plot by using the `plt.xlim` and `plt.ylim` functions.\n",
    "\n",
    "To create a box, make a list containing the two outer coordinates of the box in a given direction. So to box in the highest peak, we would want to inlcude `time` values from 5.5 to 9 (the x-axis). Let's pick the lower limit to be 5.5 and the upper limit to be 9. Same idea for `height_wave` on the y-axis. Let's pick the lower limit to be 4.5 and the upper limit to be around 7. If this ends up being too big of a box, we can always just shrink it by adjusting the values in the lists."
   ]
  },
  {
   "cell_type": "code",
   "execution_count": null,
   "metadata": {},
   "outputs": [],
   "source": [
    "highest_peak_box_x = [5.5,9]\n",
    "highest_peak_box_y = [4.5,7]\n",
    "\n",
    "plt.scatter(t_wave, height_wave)\n",
    "plt.xlabel('Time (s)')\n",
    "plt.ylabel('Height (m)')\n",
    "plt.title('Change in Height of Wave 626')\n",
    "plt.xlim(highest_peak_box_x)\n",
    "plt.ylim(highest_peak_box_y)\n",
    "plt.show()"
   ]
  },
  {
   "cell_type": "markdown",
   "metadata": {},
   "source": [
    "#### You try it!\n",
    "\n",
    "Create a box to zoom in on the middle peak of the box. "
   ]
  },
  {
   "cell_type": "code",
   "execution_count": null,
   "metadata": {},
   "outputs": [],
   "source": [
    "middle_peak_box_x = []      # put values here for x box\n",
    "middle_peak_box_y = []      # put values here for y box\n",
    "\n",
    "plt.scatter(t_wave, height_wave)\n",
    "plt.xlabel('Time (s)')\n",
    "plt.ylabel('Height (m)')\n",
    "plt.title('Change in Height of Wave 626')\n",
    "plt.xlim(middle_peak_box_x)\n",
    "plt.ylim(middle_peak_box_y)\n",
    "plt.show()"
   ]
  },
  {
   "cell_type": "markdown",
   "metadata": {},
   "source": [
    "You don't have to only plot 1D data. Matplotlib is a visualization package, which means you can create images and movies!\n",
    "\n",
    "For more information on Matplotlib, refer to these:\n",
    "\n",
    "- [Click here](https://matplotlib.org/stable/users/explain/quick_start.html) for a quick start guide to Matplotlib.\n",
    "- [Click here](https://matplotlib.org) for Matplotlib's home page.\n",
    "- [Click here](https://matplotlib.org/stable/index.html) for Matplotlib's documentation.\n",
    "\n",
    "Stay tuned for tomorrow for creating cool astronomical images from real telescope data!"
   ]
  },
  {
   "cell_type": "markdown",
   "metadata": {},
   "source": [
    "### Programming can be scary. There is a lot to learn. The great thing is that there is plenty of time to learn and plenty of people you will meet who will be happy to teach you!"
   ]
  }
 ],
 "metadata": {
  "kernelspec": {
   "display_name": "anaconda-yt",
   "language": "python",
   "name": "python3"
  },
  "language_info": {
   "codemirror_mode": {
    "name": "ipython",
    "version": 3
   },
   "file_extension": ".py",
   "mimetype": "text/x-python",
   "name": "python",
   "nbconvert_exporter": "python",
   "pygments_lexer": "ipython3",
   "version": "3.8.8"
  }
 },
 "nbformat": 4,
 "nbformat_minor": 2
}
