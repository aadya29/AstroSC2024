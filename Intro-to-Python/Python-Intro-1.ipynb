{
 "cells": [
  {
   "cell_type": "markdown",
   "metadata": {},
   "source": [
    "# Welcome to coding!"
   ]
  },
  {
   "cell_type": "markdown",
   "metadata": {},
   "source": [
    "## The terminal\n",
    "The terminal allows you to interact with your computer. It's like the Finder on Mac or File Explorer on Windows. You can search through folders, make files, open files, and run programs. \n",
    "\n",
    "On Linux or Mac, you can open up your terminal, type `open .`, and hit `<enter>`\n",
    "\n",
    "On Windows, you can open up your terminal, type `start .`, and hit `<enter>`\n",
    "\n",
    "This opens up the Finder on Mac and the File Explorer on Windows! Just like Finder and File Explorer, using the terminal helps you navigate through your computer. \n",
    "\n",
    "\n",
    "## Terminal Commands\n",
    "The terminal/command prompt has lots of commands. This list will suffice for now:\n",
    "\n",
    "Commands: Linux/OSX (Windows)\n",
    "- Display current directory: `pwd`  (`cd`)\n",
    "- List contents of directory: `ls` (`dir`)\n",
    "- Change directory: `cd <path>` (`cd <path>`)\n",
    "- Change to previous directory: `cd ..` (`cd ..`)\n",
    "- Make directory: `mkdir <name>` (`mkdir <name>`)"
   ]
  },
  {
   "cell_type": "markdown",
   "metadata": {},
   "source": [
    "Let's get some terminal practice!\n",
    "\n",
    "1. Open a new terminal window and list the directories\n",
    "2. Change into the Desktop directory\n",
    "3. Create a directory called `Summer-Camp`\n",
    "4. Change into the new `Summer-Camp` directory"
   ]
  },
  {
   "cell_type": "markdown",
   "metadata": {},
   "source": [
    "# Intro to Python"
   ]
  },
  {
   "cell_type": "markdown",
   "metadata": {},
   "source": [
    "**What is programming helpful for?**\n",
    " - For solving problems that would take too long or are not possible to do by hand. \n",
    " - For analyzing and visualizing data.\n",
    " - On a more individual level, for developing creative, problem-solving skills. There is not one correct way to solve a problem with code. The person next to you can solve the same problem in a completely different way and reach the same answer!\n",
    "\n",
    "\n",
    "**Why Python?**\n",
    "- Python is a \"high level language\", which means that its formatting (syntax) is easier for us to understand!\n",
    "- Python is used by many different fields of astronomy to complete many different tasks. Even though the counselors study different things, we use code almost every day to make sense of our research.\n",
    "    - Janiris uses Python to solve equations that calculate the power output of disks around black holes to see how they evolve over time.\n",
    "    - Margaret uses Python to plot theoretical models of the rate of tidal disruption events next to their observational results so that they can compare theory and observations to determine which model is best.\n",
    "    - Alex uses Python to combine observations taken from multiple telescopes in order to increase the resolution and decrease the noise of measurements of giant gas clouds.\n",
    "    - Aadya uses Python to clean supernova light curves which help us understand how the universe is expanding."
   ]
  },
  {
   "cell_type": "markdown",
   "metadata": {},
   "source": [
    "## Running Python"
   ]
  },
  {
   "cell_type": "markdown",
   "metadata": {},
   "source": [
    "When programming in a high level language it is common to create one or more text files called *source code*.  \n",
    "\n",
    "Here is some Python code that we'll take a closer look at later.\n",
    "Even if we don't understand what's happening now, there are words that we recognize! The computer does not know what this means as it is though.\n",
    "\n",
    "``` python\n",
    "# set the midpoint\n",
    "midpoint = 5\n",
    "\n",
    "# make two empty lists\n",
    "lower = []\n",
    "upper = []\n",
    "\n",
    "# split the numbers into lower and upper\n",
    "for i in range(10):\n",
    "    if (i < midpoint):\n",
    "        lower.append(i)\n",
    "    else:\n",
    "        upper.append(i)\n",
    "        \n",
    "print(\"lower:\", lower)\n",
    "print(\"upper:\", upper)\n",
    "```\n",
    "\n",
    "In order for source code to be executed it must first be translated into equivalent low level machine code that our computers can then \"understand\" and run.\n",
    "\n",
    "The two most common ways to translate code are through *compilers* or *interpreters*.\n",
    "\n",
    "- A compiler takes the entire code and translates the whole thing into a language that the computer can understand. \n",
    "- An interpreter proceeds line by line, translating one line, executing it and then moving to the next line. \n",
    "\n",
    "\n",
    "Python is an interpreted language.\n",
    "\n",
    "There are 3 main ways you can run Python code:\n",
    "1. Using the Python interpreter \n",
    "2. Running Python scripts (file with Python code in it)\n",
    "3. Using a Jupyter Notebook (what you're using right now!)\n",
    "\n",
    "There are benefits to all of them!"
   ]
  },
  {
   "cell_type": "markdown",
   "metadata": {},
   "source": [
    "### Python Interpreter\n",
    "You can access a Python interpreter by opening a terminal and typing `python` in the command line.\n",
    "\n",
    "Now you can execute code by entering it line-by-line. \n",
    "\n",
    "It'll look something like this:\n",
    "\n",
    "``` python\n",
    ">>> 1 + 1\n",
    "2\n",
    ">>> x = 5\n",
    ">>> (x + 1) * 3\n",
    "18\n",
    "```\n",
    "\n",
    "It's helpful to use the Python interpreter when you want to try a small amount of code.\n",
    "\n",
    "Try some stuff out yourself in the command line!\n",
    "\n",
    "You can exit the interpreter by typing `exit()` and hitting `<enter>`"
   ]
  },
  {
   "cell_type": "markdown",
   "metadata": {},
   "source": [
    "### Python Scripts\n",
    "Instead of typing code line by line, you can type up all of your code in one file and execute it all at once. Python scripts are identified by their *.py* extension\n",
    "\n",
    "Open `python_script.py`. This code is still pretty basic, but as soon as you start adding more lines of code, it becomes necessary to use something other than the interpreter. \n",
    "\n",
    "You can run Python scripts from the command line by typing ``python`` *``filename``*\n",
    "\n",
    "Run `python_script.py` from the command line. It should look like\n",
    "```\n",
    "$ python python_script.py\n",
    "```"
   ]
  },
  {
   "cell_type": "markdown",
   "metadata": {},
   "source": [
    "### Jupyter Notebooks\n",
    "\n",
    "Jupyter notebooks are interactive documents in which you can write code that will run from inside the notebook (no need for the command line once you open it!), include graphics (both user-inserted and things like generated plots), and formatted text. Jupyter notebooks are identified by their *.ipynb* extension\n",
    "\n",
    "We'll be using Jupyter Notebooks for the camp, but it's important you also get familiar with other ways to code in Python!\n",
    "\n",
    "*See below for information about installing and using Jupyter Notebooks on your own personal computer*\n",
    "\n",
    "You can open your Jupyter notebooks from the command line. It should look like\n",
    "```\n",
    "$ jupyter notebook\n",
    "```\n",
    "\n",
    "You'll see a bunch of stuff pop up on the terminal (don't worry about it!) and a new window should open up automatically. \n",
    "\n",
    "#### Using a notebook\n",
    " \n",
    "- Navigate to the `Summer-Camp` directory you made. \n",
    "- Click the `New` button in the top right corner. Click `Python 3`\n",
    "- Type in a line of code of your chosing in the cell. Do a simple math calculation.\n",
    "- Run the code cell by hitting `<shift> + <enter>`\n",
    "- Save your notebook by clicking `File` -> `Save as...` at the top\n",
    "\n",
    "\n",
    "#### Markdown\n",
    "\n",
    "*Markdown* is a language that lets you write formatted text. You can include formatted text in your notebooks. \n",
    "Everything in this notebook so far has been markdown.\n",
    "\n",
    "- Create a new cell\n",
    "- At the top click `Cell`  ->  `Cell Type`  ->  `Markdown`\n",
    "- Play around with formatted text! [Click here](https://www.markdownguide.org/cheat-sheet/) for a formatting cheat sheet.\n",
    "- Run the cell by hitting `<shift> + <enter>`\n",
    "\n",
    "#### Ending a session\n",
    "To terminate a Jupyter Notebook session make sure you save your file and close the browser. In the terminal, type `<ctrl> + <c>` and hit `enter`. You'll be prompted with `Shutdown this notebook server (y/[n])?`. Type `<y>` and hit `enter`. You should be back to your normal terminal screen."
   ]
  },
  {
   "cell_type": "markdown",
   "metadata": {},
   "source": [
    "## Basic Python Syntax"
   ]
  },
  {
   "cell_type": "markdown",
   "metadata": {},
   "source": [
    "Now we can get to coding in Python! Be sure to ask a lot of questions. \n",
    "If you come across something that you don't understand or you're having some issue, another person has definitely already had that issue and has asked the internet. Google is your best friend. Documentation should be your first place to go, but websites like [Stack Overflow](https://stackoverflow.com) and [Geeks4Geeks](https://www.geeksforgeeks.org) are also fantastic!\n",
    "\n"
   ]
  },
  {
   "cell_type": "markdown",
   "metadata": {},
   "source": [
    "#### The code in plain English\n",
    "\n",
    "The objective of this code is to create two lists with numbers that are less than or greater than or equal to some set value. \n",
    "\n",
    "This is what the code does in plain English:\n",
    "- Set a midpoint value\n",
    "- Create two empty lists that will store numbers\n",
    "- Iterate through numbers from 0 to 9, individually\n",
    "    - If that number is less than the `midpoint` value, then put it in `lower`\n",
    "    - If it is greater than or equal to `midpoint`, put it in `upper`\n",
    "- Print out the names of both the lists and their contents\n",
    "\n",
    "#### The code in Python\n",
    "\n",
    "There is a lot here and it's overwhelming if you haven't seen code before so we're going to go through the code's syntax and semantics piece by piece. \n",
    "Consider the following:"
   ]
  },
  {
   "cell_type": "code",
   "execution_count": null,
   "metadata": {},
   "outputs": [],
   "source": [
    "# set the midpoint\n",
    "midpoint = 5\n",
    "\n",
    "# make two empty lists\n",
    "lower = []\n",
    "upper = []\n",
    "\n",
    "# split the numbers into lower and upper\n",
    "for i in range(10):\n",
    "    if (i < midpoint):\n",
    "        lower.append(i)\n",
    "    else:\n",
    "        upper.append(i)\n",
    "        \n",
    "print(\"lower:\", lower)\n",
    "print(\"upper:\", upper)"
   ]
  },
  {
   "cell_type": "markdown",
   "metadata": {},
   "source": [
    "*Code from Eitan Lees*"
   ]
  },
  {
   "cell_type": "markdown",
   "metadata": {},
   "source": [
    "## Now let's work through it!"
   ]
  },
  {
   "cell_type": "markdown",
   "metadata": {},
   "source": [
    "### Comments\n",
    "\n",
    "Comments are lines in a code that are ignored when the code is running. They're there for you! Comments are a great way to track your thought process while coding. You want your comments to be descriptive because there will be many times that you'll come back to a code that you wrote and be like, \"what was I thinking...?\"\n",
    "\n",
    "There will also be times when you'll use someone else's code or someone else will use your code. Comments are helpful\n",
    "\n",
    "You start comments by using the pound/ hashtag symbol, `#`. Anything after `#` on a line will be ignored. \n",
    "Sometimes you'll want to comment out multiple lines. You can highlight all the lines you want to comment and hit `<command> + </>` (Mac) or `<ctrl> + </>` (Windows and Linux)\n",
    "\n",
    "Look at the comments from the above code block: \n",
    "\n",
    "``` python\n",
    "# set the midpoint\n",
    "# make two empty lists\n",
    "# split the numbers into lower and upper\n",
    "```\n",
    "These are descriptive comments that explain what the lines after are doing.\n",
    "\n",
    "-------------------------------------"
   ]
  },
  {
   "cell_type": "markdown",
   "metadata": {},
   "source": [
    "### Creating variables\n",
    "\n",
    "In algebra, we use variables like `x` and `y` as stand-ins for some value. Variables in code are similar.\n",
    "You assign a value to a name, and you can use that name throughout your code to represent whatever is stored in that variable.\n",
    "\n",
    "You're allowed to name your variables pretty much anything, with some rules:\n",
    "- Variable names can start with any letter or with an underscore. Variable names cannot start with numbers.\n",
    "- Variable names can contain letters, numbers, and underscores. Variable names cannot contain special characters. \n",
    "- Variables cannot be \"key words\" in Python.\n",
    "    - Key words are words that already have special meanings in Python. [Click here](https://www.w3schools.com/python/python_ref_keywords.asp) for a list of key words in Python.\n",
    "    - Rule of thumb is that if you're typing in a notebook and the word you type changes color, it's probably a key word. In the above code, `for`, `in`, `if`, and `else` are all keywords. \n",
    "- Variables are case-sensitive. \n",
    "    - `midpoint`, `Midpoint`, and `MIDPOINT` would be different variables!\n",
    "\n",
    "Let's go back to the code:\n",
    "``` python\n",
    "# set the midpoint\n",
    "midpoint = 5\n",
    "\n",
    "# make two empty lists\n",
    "lower = []\n",
    "upper = []\n",
    "```\n",
    "`midpoint` is a varible that stores the number 5. Wherever `midpoint` is used, the value it corresponds to is 5. \n",
    "`lower` and `upper` are variables that store lists. \n",
    "\n",
    "What is stored in a list can change throughout the code. \n",
    "`upper` and `lower` are initially empty, and then have values added to while the code runs. \n",
    "\n",
    "-------------------------------------\n"
   ]
  },
  {
   "cell_type": "markdown",
   "metadata": {},
   "source": [
    "### Parentheses\n",
    "\n",
    "Parentheses are used for grouping and calling. \n",
    "\n",
    "**Grouping**\n",
    "\n",
    "Just like in math class, parentheses can be used to group mathematical statements together for correct order of operations. In the example above, \n",
    "```python\n",
    "x = 5\n",
    "(x + 1) * 3\n",
    "``` \n",
    "Without parentheses, the answer would be 8.\n",
    "\n",
    "They're also used to group other statements together. In the `if` statement, `(i < midpoint)` is in parentheses to show that we should be thinking of that code segment as a unit. \n",
    "\n",
    "```python\n",
    "if (i < midpoint)\n",
    "```\n",
    "\n",
    "#### You try it!\n",
    "\n",
    "Now that you've learned all this information, let's work through a problem! \n",
    "\n",
    "POP QUIZ!!\n",
    "Solve this quadratic equation\n",
    "\n",
    "<center><img src=\"./eq2.png\" width=\"300\"/></center>\n",
    "\n",
    "Here is the equation you can use to solve them. Remember that there are 2 solutions!\n",
    "\n",
    "<center><img src=\"./eq1.png\" width=\"300\"/></center>\n",
    "\n",
    "\n",
    "**Tasks:**\n",
    "- Create variables to hold all the values that you need to have (the coefficients)\n",
    "- Use those variables and the quadratic formula to find the solutions\n",
    "    - The notation for exponents is *`base`* `**` *`exponent`*. So 3 squared (3^2) is expressed as `3**2`\n",
    "    - Be careful with parentheses!\n",
    "- Use `print` to print out the solution\n",
    "\n",
    "Below is a skeleton code. Add to it to complete the task. If you feel comfortable enough with coding, feel free to ignore the skeleton and start from scratch.\n"
   ]
  },
  {
   "cell_type": "code",
   "execution_count": null,
   "metadata": {},
   "outputs": [],
   "source": [
    "# variables that will store the coefficients of equation 1\n",
    "a = \n",
    "b = \n",
    "c = \n",
    "\n",
    "# solutions to equation 1\n",
    "x_plus =           # plus refers to the solution that uses the plus sign\n",
    "x_minus =          # minus refers to the solution that uses the minus sign\n",
    "\n",
    "print('The solutions to the equation are', )"
   ]
  },
  {
   "cell_type": "markdown",
   "metadata": {},
   "source": [
    "**Function calling**\n",
    "\n",
    "Parentheses are also used to call *functions*. Functions are pieces of code that run when called. \n",
    "The code above calls 3 different functions: `range`, `append`, and `print`. \n",
    "```python\n",
    "range(10)\n",
    "lower.append(i)\n",
    "print(\"lower:\", lower)\n",
    "```\n",
    "Functions take in *arguments*, which are the code in the parentheses. Functions can take in any number of arguments, including no arguments. \n",
    "\n",
    "In this code,\n",
    "- The `range` function takes in a argument (in this case `10`), and returns a range of values from 0 to that argument\n",
    "- The `append` function takes in a argument (`i`) and adds that as an element to the end of a list (`lower`) \n",
    "- The `print` function takes in any number of argument (`\"lower:\"` and `lower`) and prints them to the screen\n",
    "\n",
    "If you ever need more information on a function you're using, you can use `help(`*`function name`*`)` and there will be a print out of what the function does, what arguements need to be sent it, and what it returns. \n",
    "See below for results of `help()`"
   ]
  },
  {
   "cell_type": "code",
   "execution_count": null,
   "metadata": {},
   "outputs": [],
   "source": [
    "help(print)\n",
    "help(range)"
   ]
  },
  {
   "cell_type": "markdown",
   "metadata": {},
   "source": [
    "\n",
    "There is a lot you can do with functions, but this will do for now. [Click here](https://www.w3schools.com/python/python_functions.asp) for more information on functions with examples!\n",
    "\n",
    "--------------------------------"
   ]
  },
  {
   "cell_type": "markdown",
   "metadata": {},
   "source": [
    "### Loops and `if` statements\n",
    "\n",
    "So far, the code has excecuted every line once. Sometimes, you want some pieces of code to happen more than once. Sometimes, you want code to run only sometimes. You can control the flow of the code using things like loops and `if` statements. \n",
    "\n",
    "Loops do what their name implies; they loop over a certain piece of code until some condition is met. The code continues after that point. There are `for`, `while`, and nested loops. We'll only be reviewing the `for` loop today, but you can [click here](https://www.geeksforgeeks.org/loops-in-python/) for more information on loops in Python. \n",
    "\n",
    "\n",
    "`if` statements are pieces of code that only execute if a condition is met. If that condition is not met, then the code continues after that point. \n",
    "You can use math symbols for your conditions. \n",
    "- equal to: `==`\n",
    "- not equal to: `!=`\n",
    "- greater than: `>`\n",
    "- greater than or equal to: `>=`\n",
    "- less than: `<`\n",
    "- less than or equal to: `<=`\n",
    "\n",
    "You can use statements with `elif` and `else` to add more conditions to your code. We'll only be reviewing `if` and `else` today, but you can [click here](https://www.w3schools.com/python/python_conditions.asp) for more information on `if` statements in Python.\n"
   ]
  },
  {
   "cell_type": "markdown",
   "metadata": {},
   "source": [
    "Let's look at our code again.\n",
    "\n",
    "``` python\n",
    "# split the numbers into lower and upper\n",
    "for i in range(10):\n",
    "    if (i < midpoint):\n",
    "        lower.append(i)\n",
    "    else:\n",
    "        upper.append(i)\n",
    "```\n",
    "\n",
    "**`for` loop**\n",
    "\n",
    "`for` loops iterate through some list or range of values and iterate through the code until the end of the list or range. In this code, `i` iterates through and is a number in the range of numbers from 0 to 9. Think of `i` as a variable and its value changes after the end of the loop block. \n",
    "\n",
    "**`if` statement**\n",
    "\n",
    "Recall that `midpoint` = 5 and that `i` takes on values from 0 to 9 through each loop iteration. `if` statements are set up as `if` (*`condition`*). If the condition is true, then the code underneath it is excuted. If that condition is not met, and there is an `else` block, then the code underneath the `else` block is executed. There doesn't have to be an `else` block when using an `if` statement. If there is no `else` block, the code will continue to run.\n",
    "\n",
    "#### Indentation\n",
    "The spacing is different here compared to the code that we've looked at up until this point! The lines that start the `for` loop and `if` statament end in a colon, `:`, and the code underneath the `for` loop and the `if` statement is indented. This indentation marks what is contained within the loop and `if` statements. Since\n",
    "``` python\n",
    "    if (i < midpoint):\n",
    "        lower.append(i)\n",
    "    else:\n",
    "        upper.append(i)\n",
    "```\n",
    "is indented underneath the start of the `for` loop, this is the code that will be looped over. \n",
    "\n",
    "Since \n",
    "``` python\n",
    "    lower.append(i)\n",
    "```\n",
    "is indented under the `if` statement, this is the code that will run if the codition is met. \n",
    "\n",
    "The end of the loop or `if` statement is marked by the first line with an indentation that is in line with the start of the `for` loop or `if` statement.\n",
    "\n",
    "``` python\n",
    "for i in range(10):\n",
    "    if (i < midpoint):\n",
    "        lower.append(i)\n",
    "    else:\n",
    "        upper.append(i)\n",
    "        \n",
    "print(\"lower:\", lower)\n",
    "print(\"upper:\", upper)\n",
    "```\n",
    "Since these `print` statements are not indented with respect to the list, they do not run until the end of the loop. "
   ]
  },
  {
   "cell_type": "markdown",
   "metadata": {},
   "source": [
    "#### You try it!\n",
    "\n",
    "Now that you've learned all this information, let's work through a problem!\n",
    "\n",
    "Now that you can code you never have to do your times tables again >:) You let yourself get a bit rusty at them and someone horrible pop quizzes you AGAIN and asks you to list off 15 multiples of 7! No worries though. Coding this is by far the easiest and fastest way to find multiples of 7, hands down. (This is supposed to be sarcasm, but it could actually be if they ask you to list a lot of them!)\n",
    "\n",
    "**Tasks:**\n",
    "- Create a variable that will hold the value 7 in it\n",
    "- Use a `for` loop that loops to print 15 multiples of 7\n",
    "- Use an `if` statement to make sure that `0` is not printed out\n",
    "- Use `print` to print out the results for each loop iteration\n",
    "\n",
    "Below is a skeleton code. Add to it to complete the task. If you feel comfortable enough with coding, feel free to ignore the skeleton and start from scratch."
   ]
  },
  {
   "cell_type": "code",
   "execution_count": null,
   "metadata": {},
   "outputs": [],
   "source": [
    "multiples_of =  # value that you'll find multiples of \n",
    "\n",
    "for i in range():\n",
    "    result = # math equation that will give you multiples of 7. hint: use `multiples_of` and `i`\n",
    "\n",
    "    if ('condition that makes sure that result is not 0 (greater than 0)'):\n",
    "        print()     # print results here"
   ]
  },
  {
   "cell_type": "markdown",
   "metadata": {},
   "source": [
    "-------------------------\n",
    "Let's look at the code one last time. \n",
    "``` python\n",
    "# set the midpoint\n",
    "midpoint = 5\n",
    "\n",
    "# make two empty lists\n",
    "lower = []\n",
    "upper = []\n",
    "\n",
    "# split the numbers into lower and upper\n",
    "for i in range(10):\n",
    "    if (i < midpoint):\n",
    "        lower.append(i)\n",
    "    else:\n",
    "        upper.append(i)\n",
    "        \n",
    "print(\"lower:\", lower)\n",
    "print(\"upper:\", upper)\n",
    "```\n",
    "\n",
    "### We've gone through all the code! Congratulations! Hopefully it doesn't look as intimidating anymore."
   ]
  },
  {
   "cell_type": "markdown",
   "metadata": {},
   "source": [
    "# Coding Challenge\n",
    "This is a harder practice problem, so don't get discourage if it's a bit too challenging. There are programming tools that would make this easier to solve that we have not gone over yet. \n",
    "\n",
    "For this coding challenge you will probably like to use `elif`, so you might want to read up on how to implement those in oyur code if you're not already familiar.\n",
    "You also might want to be familiar with nesting `if` statements.\n",
    "[CLick here](https://www.w3schools.com/python/python_conditions.asp) for more information on `if` statements.\n",
    "\n",
    "### Is it a leap year?\n",
    "Every once in a while, our dear friend February decides to stay for a little while longer. For which years though?\n",
    "We know that \n",
    "- Every year exactly divisible by 4 is a leap year, EXCEPT years that are exactly divisible by 100\n",
    "- Years that are divisible by 4 and 100 are only leap years if they are ALSO divisible by 400\n",
    "\n",
    "**For a given year, print out whether it is a leap year or not.** \n",
    "\n",
    "**Tasks**:\n",
    "- Create a variable that stores the year you want to check \n",
    "- Set up if statements to check whether that year is divisible by 4 and 100 (and if necessary, 400)\n",
    "- Print out the result in this format *`year`* is a leap year/ *`year`* is not a leap year. with *`year`* being the year tested. Try to use variables as opposed ot just typing the year out by hand in your `print` statements\n"
   ]
  },
  {
   "cell_type": "code",
   "execution_count": null,
   "metadata": {},
   "outputs": [],
   "source": [
    "# here is some code to get you started if you want some extra help!\n",
    "\n",
    "year =     # enter value here\n",
    "\n",
    "# if statement to start checking. needs to be divisible by 4 at bare minimum\n",
    "if (\"divisible by 4\"):\n",
    "    # we're here if year is divisble by 4\n",
    "    if (\"divisible by 100\"):\n",
    "        # we're here if year is divisble by 100\n",
    "        if (\"divisible by 400\"):\n",
    "            # we're here if year is divisble by 400\n",
    "            # is this a leap year?\n",
    "            print()\n",
    "        else:\n",
    "            # we're here if year is divisible by 4 and 100, but NOT by 400\n",
    "            # is this a leap year?\n",
    "            print()\n",
    "    else:\n",
    "        # we're here if year is divisble by 4, but NOT 100\n",
    "        # is this a leap year?\n",
    "        print()\n",
    "else:\n",
    "    # we're here if year is not divisible by 4\n",
    "    # is this a leap year?\n",
    "    print() "
   ]
  },
  {
   "cell_type": "markdown",
   "metadata": {},
   "source": [
    "# At-home installation of programs and more information"
   ]
  },
  {
   "cell_type": "markdown",
   "metadata": {},
   "source": [
    "## Installing Python"
   ]
  },
  {
   "cell_type": "markdown",
   "metadata": {},
   "source": [
    "Let's try to install python! Everything we need is already loaded up on these computers, this if you would like to\n",
    "have Python on your own computer\n",
    "\n",
    "I recommend installing `miniconda` distributed by Anaconda, Inc\n",
    "- https://docs.anaconda.com/miniconda/\n",
    "\n",
    "To test your installation, in your Terminal window or Anaconda Prompt, run the command `conda list`."
   ]
  },
  {
   "cell_type": "markdown",
   "metadata": {},
   "source": [
    "## Installing Jupyter Notebook"
   ]
  },
  {
   "cell_type": "markdown",
   "metadata": {},
   "source": [
    "To install the jupyter package run the command in your terminal\n",
    "\n",
    "```bash\n",
    "conda install jupyter\n",
    "```\n",
    "\n",
    "You will be asked to confirm the installation, just hit enter"
   ]
  },
  {
   "cell_type": "markdown",
   "metadata": {},
   "source": [
    "## Additional guides and information\n",
    "- [Python cheat sheet for beginners](https://www.pythoncheatsheet.org/cheatsheet/basics)\n",
    "- [In-depth style guide for Python](https://peps.python.org/pep-0008/)"
   ]
  },
  {
   "cell_type": "markdown",
   "metadata": {},
   "source": [
    "## Project Euler\n",
    "[Project Euler](https://projecteuler.net/archives) has a bunch of fun coding prompts to challenge you problem-solving and coding abilities. There are a lot of problems with a wide range of difficulties. You can do the problems in any language you want!\n",
    "\n",
    "I encourage you to try to solve these as you learn more about programming!"
   ]
  },
  {
   "cell_type": "markdown",
   "metadata": {},
   "source": [
    "### Acknowledgements\n",
    "Thank you to [Eitan Lees](https://eitanlees.com) for his code and his notes that made up the base of this notebook. "
   ]
  }
 ],
 "metadata": {
  "kernelspec": {
   "display_name": "anaconda-yt",
   "language": "python",
   "name": "python3"
  },
  "language_info": {
   "codemirror_mode": {
    "name": "ipython",
    "version": 3
   },
   "file_extension": ".py",
   "mimetype": "text/x-python",
   "name": "python",
   "nbconvert_exporter": "python",
   "pygments_lexer": "ipython3",
   "version": "3.8.8"
  }
 },
 "nbformat": 4,
 "nbformat_minor": 2
}
